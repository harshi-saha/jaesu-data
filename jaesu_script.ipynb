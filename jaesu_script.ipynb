{
 "cells": [
  {
   "cell_type": "markdown",
   "id": "2b613209",
   "metadata": {},
   "source": [
    "### Sample Names\n",
    "- GFP: \"1_GFP-1\", \"2_GFP-2\", \"3_GFP-3\"\n",
    "- RBD: \"4_RBD-1\",\"5_RBD-2\", \"6_RBD-3\"\n",
    "- G1B: \"7_G1B-1\", \"8_G1B-2\", \"9_G1B-3\"\n",
    "- G1C: \"10_G1C-1\", \"11_G1C-2\", \"12_G1C-3\""
   ]
  },
  {
   "cell_type": "code",
   "execution_count": null,
   "id": "9fd38e52",
   "metadata": {},
   "outputs": [],
   "source": [
    "# Run this to allow using the %%R cell magic\n",
    "%load_ext rpy2.ipython\n",
    "\n",
    "# Suppress warnings (most notable from rpy2)\n",
    "import warnings\n",
    "warnings.filterwarnings('ignore')"
   ]
  },
  {
   "cell_type": "code",
   "execution_count": null,
   "id": "7bd94a16-535b-4677-bbc8-c0cdfdcb9e5a",
   "metadata": {},
   "outputs": [],
   "source": [
    "%%R\n",
    "\n",
    "# Load in all packages you will need. \n",
    "#Install with install.packages(\"---\") if you do not have already.\n",
    "library(Seurat)\n",
    "library(data.table)\n",
    "library(tidyverse)\n",
    "library(ggplot2)\n",
    "library(patchwork)\n",
    "library(reshape2)\n",
    "lapply(c(\"dplyr\",\"Seurat\",\"HGNChelper\",\"openxlsx\"), library, character.only = T)\n",
    "source(\"https://raw.githubusercontent.com/IanevskiAleksandr/sc-type/master/R/gene_sets_prepare.R\"); \n",
    "source(\"https://raw.githubusercontent.com/IanevskiAleksandr/sc-type/master/R/sctype_score_.R\")"
   ]
  },
  {
   "cell_type": "markdown",
   "id": "5d8d4a22",
   "metadata": {},
   "source": [
    "### Load sample and merge"
   ]
  },
  {
   "cell_type": "code",
   "execution_count": null,
   "id": "ffa6a06f",
   "metadata": {},
   "outputs": [],
   "source": [
    "%%R\n",
    "\n",
    "# Load in filtered_feature_bc_matrix directory. \n",
    "# Assign to object named counts{sample #}\n",
    "counts10 <- Read10X(data.dir = \"/Users/[user]/Downloads/[path]/filtered_feature_bc_matrix\")"
   ]
  },
  {
   "cell_type": "code",
   "execution_count": null,
   "id": "72e75933",
   "metadata": {},
   "outputs": [],
   "source": [
    "%%time\n",
    "\n",
    "# Create Seurat object. \n",
    "# Change input and project name only.\n",
    "%R seurat10 <- CreateSeuratObject(counts10, project = \"[1sample]\", min.cells = 5, min.features = 200)"
   ]
  },
  {
   "cell_type": "markdown",
   "id": "ad09b973",
   "metadata": {},
   "source": [
    "### Clustering"
   ]
  },
  {
   "cell_type": "code",
   "execution_count": null,
   "id": "41cc5536-2cc2-46d3-aade-30b1e01c3b86",
   "metadata": {},
   "outputs": [],
   "source": [
    "%%time\n",
    "\n",
    "# Normalize Data. \n",
    "# Change input name only.\n",
    "%R seurat10 <- NormalizeData(seurat10, normalization.method = \"LogNormalize\")"
   ]
  },
  {
   "cell_type": "code",
   "execution_count": null,
   "id": "9beafc83-2ee1-4ac2-aa2f-78dc5421fc90",
   "metadata": {
    "tags": []
   },
   "outputs": [],
   "source": [
    "%%time\n",
    "\n",
    "# Identify mitochondrial genes. \n",
    "# Change both object names only.\n",
    "%R seurat10[[\"percent.mito\"]] <- PercentageFeatureSet(object = seurat10, pattern = \"mt-\")"
   ]
  },
  {
   "cell_type": "code",
   "execution_count": null,
   "id": "f4a6f1f7-197f-4ad7-83f7-496dba101ddc",
   "metadata": {
    "tags": []
   },
   "outputs": [],
   "source": [
    "%%time\n",
    "\n",
    "# Filter based on uniqueRNA, totalRNA, and mitochondrial genes. \n",
    "# Change object name and parameters if necessary.\n",
    "%R seurat10 <- subset(x = seurat10, subset = nFeature_RNA > 500 & percent.mito < 5)"
   ]
  },
  {
   "cell_type": "code",
   "execution_count": null,
   "id": "c4ba3538-b241-42c8-9b04-c6cb186f3f4a",
   "metadata": {
    "tags": []
   },
   "outputs": [],
   "source": [
    "%%time\n",
    "\n",
    "# Scale data. \n",
    "# Change both object names only.\n",
    "%R seurat10 <- ScaleData(seurat10, vars.to.regress = c(\"percent.mito\"))"
   ]
  },
  {
   "cell_type": "code",
   "execution_count": null,
   "id": "2065e6fd",
   "metadata": {},
   "outputs": [],
   "source": [
    "# Run to save after scaling step\n",
    "%R saveRDS(seurat10, \"/Users/[user]/Downloads/[path]/afterscaling.rds\")"
   ]
  },
  {
   "cell_type": "code",
   "execution_count": null,
   "id": "a5c6cf56-f404-4759-82f2-08ffbb07e856",
   "metadata": {},
   "outputs": [],
   "source": [
    "%%time\n",
    "\n",
    "# Find variable features. \n",
    "# Change only object name, parameters if necessary\n",
    "%R seurat10 <- FindVariableFeatures\\\n",
    "(seurat10, selection.method = \"mean.var.plot\", \\\n",
    " mean.cutoff = c(0.0125, 3), dispersion.cutoff = c(0.5, Inf))"
   ]
  },
  {
   "cell_type": "code",
   "execution_count": null,
   "id": "e8d54aa1-2ea8-4155-8ab0-4f176437f7e4",
   "metadata": {},
   "outputs": [],
   "source": [
    "%%time\n",
    "\n",
    "# Run PCA\n",
    "%R seurat10 <- RunPCA(seurat10, seed.use = 42)"
   ]
  },
  {
   "cell_type": "code",
   "execution_count": null,
   "id": "2c57b5eb-29f6-479a-8b3d-ddc6f6a58a44",
   "metadata": {},
   "outputs": [],
   "source": [
    "%%time\n",
    "\n",
    "# Run TSNE using parameters from paper. Change object name.\n",
    "%R seurat10 <- RunTSNE(seurat10, dims.use = 1:16, do.fast = T, perplexity =  15, seed.use = 7777)"
   ]
  },
  {
   "cell_type": "code",
   "execution_count": null,
   "id": "6d5f2a25-9d3e-41cf-a866-28d3715eee8f",
   "metadata": {},
   "outputs": [],
   "source": [
    "%%R\n",
    "\n",
    "# Outputs tsne plot as pdf with no clusters. \n",
    "# Check shape to make sure it looks okay\n",
    "pdf(\"seurat_preclusterlabel.pdf\", width = 10, height = 10)\n",
    "plot <- DimPlot(seurat10, reduction = \"tsne\")  \n",
    "print(plot)\n",
    "dev.off()"
   ]
  },
  {
   "cell_type": "code",
   "execution_count": null,
   "id": "cd1b6d61",
   "metadata": {},
   "outputs": [],
   "source": [
    "# Run this and following cell (changing save directory) to save and load seurat object as RDS. \n",
    "# Do not proceed usingvoriginal seurat object\n",
    "%R saveRDS(seurat10, \"/Users/dhruvkhatri/Downloads/JaesuData1/1_GDB-1/aftertsne.rds\")"
   ]
  },
  {
   "cell_type": "code",
   "execution_count": null,
   "id": "3ef0f99c",
   "metadata": {
    "scrolled": false
   },
   "outputs": [],
   "source": [
    "%R seurat_copy <- readRDS(\"/Users/dhruvkhatri/Downloads/JaesuData1/1_GDB-1/aftertsne.rds\")"
   ]
  },
  {
   "cell_type": "code",
   "execution_count": null,
   "id": "54298e04-8f77-430e-9c04-7b762cd01fa0",
   "metadata": {},
   "outputs": [],
   "source": [
    "%%time\n",
    "\n",
    "# Performs find neighbors for clustering later on.\n",
    "%R seurat_copy <- FindNeighbors(seurat_copy, dims = 1:35)"
   ]
  },
  {
   "cell_type": "code",
   "execution_count": null,
   "id": "be1f6dde",
   "metadata": {},
   "outputs": [],
   "source": [
    "%%time\n",
    "\n",
    "# Finds clusters based on resolution. \n",
    "# Higher resolution == more clusters. \n",
    "# Keep resolution at 5.\n",
    "%R seurat_copy <- FindClusters(seurat_copy, resolution = 5, random.seed = 42)"
   ]
  },
  {
   "cell_type": "code",
   "execution_count": null,
   "id": "bef01b8a",
   "metadata": {},
   "outputs": [],
   "source": [
    "%%R\n",
    "# Only run this first time\n",
    "# Outputs tSNE plot as pdf. \n",
    "# Use to check if number of clusters is correct.\n",
    "pdf(\"seurat_jaesu_data_sample10_prelabel.pdf\", width = 10, height = 10)\n",
    "plot <- DimPlot(seurat_copy, reduction = \"tsne\")  \n",
    "print(plot)\n",
    "dev.off()"
   ]
  },
  {
   "cell_type": "code",
   "execution_count": null,
   "id": "0879abf4-05ee-4a18-a11f-8ce5b8da133a",
   "metadata": {},
   "outputs": [],
   "source": [
    "%%R\n",
    "\n",
    "# Load in required files for SCType. \n",
    "# SCType is used for labeling clusters.\n",
    "\n",
    "# load gene set preparation function\n",
    "source(\"https://raw.githubusercontent.com/IanevskiAleksandr/sc-type/master/R/gene_sets_prepare.R\")\n",
    "\n",
    "# load cell type annotation function\n",
    "source(\"https://raw.githubusercontent.com/IanevskiAleksandr/sc-type/master/R/sctype_score_.R\")\n",
    "\n",
    "gs_list = gene_sets_prepare\\\n",
    "(\"https://raw.githubusercontent.com/IanevskiAleksandr/sc-type/master/ScTypeDB_short.xlsx\", \\\n",
    " \"Immune system\")"
   ]
  },
  {
   "cell_type": "code",
   "execution_count": null,
   "id": "adbe93d5-b691-4d07-9e13-b0b7ced103d9",
   "metadata": {},
   "outputs": [],
   "source": [
    "%%R\n",
    "\n",
    "# Set the file path for db_ to the excel file for marker genes. \n",
    "# This file should be formatted correctly. For guidance\n",
    "# on formatting, reference link in cell above in gs_list object.\n",
    "\n",
    "# DB file\n",
    "db_ = \"/Users/[user]/Downloads/marker_genes.xlsx\";\n",
    "\n",
    "# Set the tissue type you are working with\n",
    "# e.g. Immune system,Pancreas,Liver,Eye,Kidney,Brain,Lung,\n",
    "# Adrenal,Heart,Intestine,Muscle,Placenta,Spleen,Stomach,Thymus \n",
    "tissue = \"Bone marrow\" "
   ]
  },
  {
   "cell_type": "code",
   "execution_count": null,
   "id": "d95e730e-462f-47c6-a1c6-ac11e456fa94",
   "metadata": {},
   "outputs": [],
   "source": [
    "%%R\n",
    "\n",
    "# Prepares the marker gene data for application to your results.\n",
    "gs_list = gene_sets_prepare(db_, tissue)\n",
    "\n",
    "# Performs calculation of distinguising cell types from marker genes. \n",
    "# May take a minute or two.\n",
    "es.max = sctype_score(scRNAseqData = seurat_copy[[\"RNA\"]]@scale.data, scaled = TRUE, \n",
    "                      gs = gs_list$gs_positive, gs2 = gs_list$gs_negative) "
   ]
  },
  {
   "cell_type": "code",
   "execution_count": null,
   "id": "26073398-94fe-49b7-bfbf-d9b902c296d3",
   "metadata": {},
   "outputs": [],
   "source": [
    "%%R\n",
    "# Changes the metadata of the seurat object to include the cell types you discovered in previous steps\n",
    "\n",
    "# NOTE: scRNAseqData parameter should correspond to your input scRNA-seq matrix. \n",
    "# In case Seurat is used, it is either pbmc[[\"RNA\"]]@scale.data (default), \n",
    "# pbmc[[\"SCT\"]]@scale.data, in case sctransform is used for normalization,\n",
    "# or pbmc[[\"integrated\"]]@scale.data, in case a joint analysis of multiple single-cell \n",
    "# datasets is performed.\n",
    "\n",
    "# merge by cluster\n",
    "cL_results = do.call(\"rbind\", lapply(unique(seurat_copy@meta.data$seurat_clusters), function(cl){\n",
    "  es.max.cl = sort(rowSums(es.max[ ,rownames(seurat_copy@meta.data[seurat_copy@meta.data$seurat_clusters==cl, ])])\\\n",
    "                   , decreasing = !0)head(data.frame(cluster = cl, type = names(es.max.cl), scores = es.max.cl, \\\n",
    "                ncells = sum(seurat_copy@meta.data$seurat_clusters==cl)), 10)}))\n",
    "\n",
    "sctype_scores = cL_results %>% group_by(cluster) %>% top_n(n = 1, wt = scores)  "
   ]
  },
  {
   "cell_type": "code",
   "execution_count": null,
   "id": "21c496bb-5708-4d12-bcc4-782505166ba9",
   "metadata": {},
   "outputs": [],
   "source": [
    "%%R\n",
    "# Performs quality check by setting clusters that were not easily disguishable as \"unknown\"\n",
    "\n",
    "# set low-confident (low ScType score) clusters to \"unknown\"\n",
    "sctype_scores$type[as.numeric(as.character(sctype_scores$scores)) < sctype_scores$ncells/4] = \"Unknown\"\n",
    "print(sctype_scores[,1:3])\n",
    "\n",
    "seurat_copy@meta.data$customclassif = \"\"\n",
    "for(j in unique(sctype_scores$cluster)){\n",
    "  cl_type = sctype_scores[sctype_scores$cluster==j,]; \n",
    "  seurat_copy@meta.data$customclassif[seurat_copy@meta.data$seurat_clusters == j] = as.character(cl_type$type[1])\n",
    "}"
   ]
  },
  {
   "cell_type": "code",
   "execution_count": null,
   "id": "ac42b467-eaaf-4f95-9aa1-11ab23da2ee3",
   "metadata": {
    "scrolled": true
   },
   "outputs": [],
   "source": [
    "%%R\n",
    "# Outputs final tSNE plot as pdf with clusters labeled\n",
    "# Change plot titles as required\n",
    "\n",
    "pdf(\"seurat_postlabeling.pdf\", width = 10, height = 10)\n",
    "plot <- DimPlot(seurat_copy, reduction = \"tsne\", label = TRUE, label.size = 4, \\\n",
    "        repel = TRUE, group.by = 'customclassif', ) \n",
    "print(plot+ ggtitle(\"[sample]\"))\n",
    "dev.off()"
   ]
  },
  {
   "cell_type": "code",
   "execution_count": null,
   "id": "8d834e7b",
   "metadata": {},
   "outputs": [],
   "source": [
    "# Save RDS object with clusters labeled to run DE on it later\n",
    "%R saveRDS(seurat_copy, \"/Users/[user]/Downloads/[path]/afterlabels.rds\")"
   ]
  },
  {
   "cell_type": "markdown",
   "id": "23de0e23",
   "metadata": {},
   "source": [
    "### Differential Expression Analysis & Cell Numbers"
   ]
  },
  {
   "cell_type": "code",
   "execution_count": null,
   "id": "322a04e3",
   "metadata": {},
   "outputs": [],
   "source": [
    "# Load in RDS that has labeled clusters (afterlabels.rds)\n",
    "# or just continue using seurat_copy if you just ran previous steps and skip this\n",
    "%R seurat_copy <- readRDS(\"/Users/[user]/Downloads/[path]/afterlabels.rds\")"
   ]
  },
  {
   "cell_type": "code",
   "execution_count": null,
   "id": "cfc759cd",
   "metadata": {},
   "outputs": [],
   "source": [
    "# Overwrite clusters from FindClusters with SC-Type labeled clusters in metadata\n",
    "%R Idents(seurat_copy) <- \"customclassif\""
   ]
  },
  {
   "cell_type": "code",
   "execution_count": null,
   "id": "f868ea18",
   "metadata": {},
   "outputs": [],
   "source": [
    "%%R\n",
    "\n",
    "metadata_df <- seurat_copy@meta.data\n",
    "\n",
    "# Create a data.table from the metadata_df\n",
    "md_dt <- as.data.table(metadata_df)\n",
    "\n",
    "# Calculate the count of rows by orig.ident and customclassif\n",
    "md_count <- md_dt[, .N, by = c(\"orig.ident\", \"customclassif\")]\n",
    "\n",
    "# Reshape the data\n",
    "reshaped_table <- dcast(md_count, orig.ident ~ customclassif, value.var = \"N\")\n",
    "\n",
    "numeric_columns <- reshaped_table %>%\n",
    "  select_if(is.numeric)\n",
    "\n",
    "# Calculate row sums for each row in reshaped_table\n",
    "row_sums <- rowSums(numeric_columns <- reshaped_table %>%\n",
    "  select_if(is.numeric), na.rm = TRUE)\n",
    "\n",
    "# Add row sums as a new column to the table\n",
    "reshaped_table$TotalCells <- row_sums\n",
    "\n",
    "# Print or view the table\n",
    "reshaped_table"
   ]
  },
  {
   "cell_type": "code",
   "execution_count": null,
   "id": "6fbdfcfe",
   "metadata": {},
   "outputs": [],
   "source": [
    "%R reshaped_table"
   ]
  },
  {
   "cell_type": "code",
   "execution_count": null,
   "id": "513c8d10",
   "metadata": {},
   "outputs": [],
   "source": [
    "# Finds differentially expressed genes in each cell cluster. \n",
    "# Could take a while depending on how many clusters.\n",
    "# Progress bar might be very messy if you run locally\n",
    "%R BM.markers <- FindAllMarkers(seurat_copy, only.pos = TRUE)"
   ]
  },
  {
   "cell_type": "code",
   "execution_count": null,
   "id": "67d0774e",
   "metadata": {},
   "outputs": [],
   "source": [
    "# If you ran previous step locally and/or it took a while to run, save markers here\n",
    "%R saveRDS(BM.markers, \"/Users/[user]/Downloads/[path]/afterfindmarkers.rds\")"
   ]
  },
  {
   "cell_type": "code",
   "execution_count": null,
   "id": "f6f5829d",
   "metadata": {},
   "outputs": [],
   "source": [
    "%%R\n",
    "\n",
    "# Make copy so previous step does not have to be rerun. \n",
    "# Group the genes into one object. Set n=# to how many genes\n",
    "# you want per cluster on heatmap. ex: if you choose n = 5, \n",
    "# heatmap will show 5 most differentially expressed genes\n",
    "# in each cluster.\n",
    "\n",
    "BM.markers_copy <- copy(BM.markers)\n",
    "BM.markers_copy <- BM.markers_copy %>% group_by(cluster) %>% top_n(n = 5, wt = avg_log2FC)"
   ]
  },
  {
   "cell_type": "code",
   "execution_count": null,
   "id": "740e7f22",
   "metadata": {},
   "outputs": [],
   "source": [
    "# Check to make sure previous step run correctly\n",
    "%R ls(BM.markers_copy)"
   ]
  },
  {
   "cell_type": "code",
   "execution_count": null,
   "id": "9464f92f",
   "metadata": {},
   "outputs": [],
   "source": [
    "%%R\n",
    "\n",
    "# Outputs heatmap based on previous parameters\n",
    "# Set Plot Title to correct sample\n",
    "pdf(\"sample_heatmap.pdf\", width = 10, height = 10)\n",
    "heatmap <- DoHeatmap(seurat_copy, features = unique(BM.markers_copy$gene), size = 2, \n",
    "          angle = 90) + scale_fill_gradientn(colors = c(\"blue\", \"white\", \"red\")) \n",
    "print(heatmap+ ggtitle(\"[sample]: Differentially Expressed Genes By Cluster\"))\n",
    "dev.off()"
   ]
  },
  {
   "cell_type": "markdown",
   "id": "65be0943",
   "metadata": {},
   "source": [
    "### Generate Volcano Plot for potential DE genes (python)"
   ]
  },
  {
   "cell_type": "code",
   "execution_count": null,
   "id": "031c0b0b",
   "metadata": {},
   "outputs": [],
   "source": [
    "# Volcano plot is best in Python. \n",
    "# Convert dataframe to csv to import in python.\n",
    "%R write.csv(BM.markers, \"/Users/[user]/Downloads/[path]/diffexpressed_genes.csv\")"
   ]
  },
  {
   "cell_type": "code",
   "execution_count": null,
   "id": "f23621de",
   "metadata": {},
   "outputs": [],
   "source": [
    "# Imports packages. \n",
    "# pip install if you do not have installed already.\n",
    "\n",
    "import pandas as pd\n",
    "import seaborn as sns\n",
    "import math\n",
    "import matplotlib.pyplot as plt\n",
    "import numpy as np\n",
    "from adjustText import adjust_text\n",
    "import random"
   ]
  },
  {
   "cell_type": "code",
   "execution_count": null,
   "id": "b68d9e4b",
   "metadata": {},
   "outputs": [],
   "source": [
    "# Load in and check data\n",
    "\n",
    "df = pd.read_csv('/Users/[user]/Downloads/[path]/diffexpressed_genes.csv').dropna()\n",
    "df.head()"
   ]
  },
  {
   "cell_type": "code",
   "execution_count": null,
   "id": "ace38269",
   "metadata": {},
   "outputs": [],
   "source": [
    "new_pval = df['p_val'].tolist()\n",
    "for p_ind in range(len(new_pval)):\n",
    "    new_pval[p_ind] = -1 * math.log(new_pval[p_ind], 10)\n",
    "df_res['log10_pvalue'] = new_pval"
   ]
  },
  {
   "cell_type": "code",
   "execution_count": null,
   "id": "2c7e163e",
   "metadata": {},
   "outputs": [],
   "source": [
    "plt.figure(figsize = (6,6))\n",
    "\n",
    "ax = sns.scatterplot(data = df, x = 'avg_log2FC', y = 'log10_pvalue',\n",
    "                    hue = 'color', hue_order = ['nobody_cares', 'picked1', 'picked2', 'i_care'],\n",
    "                    palette = ['lightgrey', 'orange', 'purple', 'grey'],\n",
    "                    style = 'shape', style_order = ['picked3', 'picked4', 'not_important'],\n",
    "                    markers = ['^', 's', 'o'], \n",
    "                    size = 'baseMean', sizes = (40, 400))\n",
    "\n",
    "ax.axhline(2, zorder = 0, c = 'k', lw = 2, ls = '--')\n",
    "ax.axvline(1, zorder = 0, c = 'k', lw = 2, ls = '--')\n",
    "ax.axvline(-1, zorder = 0, c = 'k', lw = 2, ls = '--')\n",
    "\n",
    "\n",
    "\n",
    "texts = []\n",
    "for i in range(len(df)):\n",
    "    if df.iloc[i].log10_pvalue > 5 and abs(df.iloc[i].avg_log2FC) > 2:\n",
    "        texts.append(plt.text(x = df.iloc[i].avg_log2FC, y = df.iloc[i].log10_pvalue, s = df.iloc[i].symbol,\n",
    "                             fontsize = 12, weight = 'bold'))\n",
    "        \n",
    "adjust_text(texts, arrowprops = dict(arrowstyle = '-', color = 'k'))\n",
    "\n",
    "plt.legend(loc = 1, bbox_to_anchor = (1.4,1), frameon = False, prop = {'weight':'bold'})\n",
    "\n",
    "for axis in ['bottom', 'left']:\n",
    "    ax.spines[axis].set_linewidth(2)\n",
    "    \n",
    "ax.spines['top'].set_visible(False)\n",
    "ax.spines['right'].set_visible(False)\n",
    "\n",
    "ax.tick_params(width = 2)\n",
    "\n",
    "plt.xticks(size = 12, weight = 'bold')\n",
    "plt.yticks(size = 12, weight = 'bold')\n",
    "\n",
    "plt.xlabel(\"avg_log2FC\", size = 15)\n",
    "plt.ylabel(\"$log_(10)$_pvalue\", size = 15)\n",
    "\n",
    "plt.savefig('volcanoplot.png', dpi = 300, bbox_inches = 'tight', facecolor = 'white')\n",
    "\n",
    "plt.show()"
   ]
  }
 ],
 "metadata": {
  "kernelspec": {
   "display_name": "Python 3 (ipykernel)",
   "language": "python",
   "name": "python3"
  },
  "language_info": {
   "codemirror_mode": {
    "name": "ipython",
    "version": 3
   },
   "file_extension": ".py",
   "mimetype": "text/x-python",
   "name": "python",
   "nbconvert_exporter": "python",
   "pygments_lexer": "ipython3",
   "version": "3.8.17"
  }
 },
 "nbformat": 4,
 "nbformat_minor": 5
}
